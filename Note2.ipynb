{
 "cells": [
  {
   "cell_type": "code",
   "execution_count": null,
   "id": "6b4a4e4d",
   "metadata": {},
   "outputs": [],
   "source": [
    "from openai import OpenAI\n",
    "from pydub import AudioSegment\n",
    "\n",
    "# Initialize OpenAI client with your API key\n",
    "api = \"your_openai_key\"\n",
    "client = OpenAI(api_key=api)\n",
    "\n",
    "# Load the audio file\n",
    "song = AudioSegment.from_mp3(\"tutorialnew.wav\")\n",
    "\n",
    "# Define the duration of each chunk in milliseconds (5 minutes)\n",
    "chunk_duration = 2 * 60 * 1000\n",
    "\n",
    "\n",
    "# Iterate over the audio file in 5-minute chunks\n",
    "initial = 0\n",
    "f=open(\"video.txt\",\"a\")\n",
    "while initial < len(song):\n",
    "    # Calculate the end point of the chunk\n",
    "    end_point = min(initial + chunk_duration, len(song))\n",
    "    \n",
    "    # Extract the 5-minute chunk\n",
    "    audio_chunk = song[initial:end_point]#isi ek file me ja kar store ho raha hai\n",
    "    \n",
    "    # Export the chunk as a new audio file\n",
    "    audio_chunk.export(\"audio_chunk.wav\", format=\"wav\")\n",
    "    \n",
    "    # Open the exported audio file\n",
    "    with open(\"audio_chunk.wav\", \"rb\") as audio_file:\n",
    "        # Send request to OpenAI to transcribe the audio\n",
    "        translation = client.audio.translations.create(\n",
    "            model=\"whisper-1\",\n",
    "            file=audio_file\n",
    "        )\n",
    "    \n",
    "    # Print the transcribed text\n",
    "    print(translation.text)\n",
    "    f.write(translation.text)\n",
    "    # Update the initial point for the next chunk\n",
    "    initial = end_point\n",
    "f.close()"
   ]
  }
 ],
 "metadata": {
  "kernelspec": {
   "display_name": "Python 3",
   "language": "python",
   "name": "python3"
  },
  "language_info": {
   "codemirror_mode": {
    "name": "ipython",
    "version": 3
   },
   "file_extension": ".py",
   "mimetype": "text/x-python",
   "name": "python",
   "nbconvert_exporter": "python",
   "pygments_lexer": "ipython3",
   "version": "3.8.5"
  }
 },
 "nbformat": 4,
 "nbformat_minor": 5
}
