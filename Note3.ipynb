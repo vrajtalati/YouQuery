{
 "cells": [
  {
   "cell_type": "code",
   "execution_count": null,
   "id": "a3edb0ad",
   "metadata": {},
   "outputs": [],
   "source": [
    "import openai\n",
    "from langchain.chat_models import ChatOpenAI\n",
    "from langchain.schema import HumanMessage,SystemMessage,AIMessage\n",
    "from langchain.embeddings import OpenAIEmbeddings\n",
    "from langchain.document_loaders import TextLoader\n",
    "from langchain.text_splitter import RecursiveCharacterTextSplitter\n",
    "from langchain.vectorstores import FAISS"
   ]
  },
  {
   "cell_type": "code",
   "execution_count": null,
   "id": "1a0a7ee6",
   "metadata": {},
   "outputs": [],
   "source": [
    "openai_api_key=\"your_openai_key\"\n",
    "loader=TextLoader(\"video.txt\")\n",
    "document_text=loader.load()"
   ]
  },
  {
   "cell_type": "code",
   "execution_count": null,
   "id": "115702db",
   "metadata": {},
   "outputs": [],
   "source": [
    "text_splitter=RecursiveCharacterTextSplitter(chunk_size=500,chunk_overlap=100)\n",
    "documents=text_splitter.split_documents(document_text)"
   ]
  },
  {
   "cell_type": "code",
   "execution_count": null,
   "id": "c746848c",
   "metadata": {},
   "outputs": [],
   "source": [
    "embeddings=OpenAIEmbeddings(openai_api_key=openai_api_key) \n",
    "chunk_embeddings = [embeddings.embed_query(chunk.page_content) for chunk in documents]"
   ]
  },
  {
   "cell_type": "code",
   "execution_count": null,
   "id": "c0c27787",
   "metadata": {},
   "outputs": [],
   "source": [
    "# Create the FAISS vector store from the documents and embeddings\n",
    "vector_store =FAISS.from_documents (documents, embeddings)\n",
    "retriever = vector_store.as_retriever()"
   ]
  },
  {
   "cell_type": "code",
   "execution_count": null,
   "id": "abc20571",
   "metadata": {},
   "outputs": [],
   "source": [
    "# Function to retrieve top relevant chunks and Launch chat session\n",
    "def query_document (question, print_prompt=False):\n",
    "    # Retrieve top relevant chunks using FAISS vector store\n",
    "    retrieved_documents =retriever.get_relevant_documents (question) \n",
    "    relevant_chunks =[document.page_content for document in retrieved_documents]\n",
    "    # Update the prompt with the top relevant chunks\n",
    "    \n",
    "    #prompt =('Directly below I will provide documentation for answering questions. ' +'Then, I will ask a question. Only use information provided in the documentation. The question will begin afte'If the answer is not in the documentation provided, respond with \"answer not found\"')\n",
    "    prompt = '\\n\\n'.join(relevant_chunks)\n",
    "    prompt += f'\\n\\nUser: {question}\\n'\n",
    "    \n",
    "    chat =ChatOpenAI (temperature=0.0, openai_api_key=openai_api_key, model=\"gpt-3.5-turbo\")\n",
    "    response =chat([HumanMessage(content=prompt)])\n",
    "    \n",
    "    if print_prompt:\n",
    "        print('**** PROMPT ****\\n\\n', prompt)\n",
    "    \n",
    "    print('**** RESPONSE *****\\n\\n', response.content)"
   ]
  },
  {
   "cell_type": "code",
   "execution_count": null,
   "id": "fb7e4607",
   "metadata": {},
   "outputs": [],
   "source": [
    "query_document(question=\"can we use c++ coding language in project if yes then suggest some project names?\")"
   ]
  },
  {
   "cell_type": "code",
   "execution_count": null,
   "id": "661c80ad",
   "metadata": {},
   "outputs": [],
   "source": []
  },
  {
   "cell_type": "code",
   "execution_count": null,
   "id": "43b1db3d",
   "metadata": {},
   "outputs": [],
   "source": []
  },
  {
   "cell_type": "code",
   "execution_count": null,
   "id": "2e54adca",
   "metadata": {},
   "outputs": [],
   "source": []
  },
  {
   "cell_type": "code",
   "execution_count": null,
   "id": "b4c1f6fd",
   "metadata": {},
   "outputs": [],
   "source": []
  }
 ],
 "metadata": {
  "kernelspec": {
   "display_name": "Python 3 (ipykernel)",
   "language": "python",
   "name": "python3"
  },
  "language_info": {
   "codemirror_mode": {
    "name": "ipython",
    "version": 3
   },
   "file_extension": ".py",
   "mimetype": "text/x-python",
   "name": "python",
   "nbconvert_exporter": "python",
   "pygments_lexer": "ipython3",
   "version": "3.9.12"
  }
 },
 "nbformat": 4,
 "nbformat_minor": 5
}
