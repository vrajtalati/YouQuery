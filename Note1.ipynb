{
 "cells": [
  {
   "cell_type": "markdown",
   "id": "9f7a42ad",
   "metadata": {},
   "source": []
  },
  {
   "cell_type": "code",
   "execution_count": null,
   "id": "df6020e6",
   "metadata": {},
   "outputs": [],
   "source": [
    "from pytube import YouTube\n",
    "import os\n",
    "\n",
    "\n",
    "\n",
    "destination=r\"C:\\Users\\Dell\\3D Objects\\LLM\"\n",
    "video_link=\"https://youtu.be/imNlJohlLPk?si=6ofqc2jLa7UJ7vbf\"\n",
    "try:\n",
    "    video=YouTube(video_link)\n",
    "    audio=video.streams.filter(only_audio=False,file_extension='mp4').first()\n",
    "    audio.download(destination)\n",
    "    #audioreal = VideoFileClip(\"exampl\")\n",
    "    #video.audio.write_audiofile(\"example.mp3\")\n",
    "    print(\"download completed!\")\n",
    "except:\n",
    "    print(\"download is not yet completed\")\n"
   ]
  },
  {
   "cell_type": "code",
   "execution_count": null,
   "id": "b5993815",
   "metadata": {},
   "outputs": [],
   "source": [
    "from moviepy.editor import *\n",
    "\n",
    "# Load the mp4 file\n",
    "video = VideoFileClip(\"tutorial2.mp4\")\n",
    "\n",
    "# Extract audio from video\n",
    "video.audio.write_audiofile(\"tutorialnew.wav\")"
   ]
  }
 ],
 "metadata": {
  "kernelspec": {
   "display_name": "Python 3 (ipykernel)",
   "language": "python",
   "name": "python3"
  },
  "language_info": {
   "codemirror_mode": {
    "name": "ipython",
    "version": 3
   },
   "file_extension": ".py",
   "mimetype": "text/x-python",
   "name": "python",
   "nbconvert_exporter": "python",
   "pygments_lexer": "ipython3",
   "version": "3.9.12"
  }
 },
 "nbformat": 4,
 "nbformat_minor": 5
}
